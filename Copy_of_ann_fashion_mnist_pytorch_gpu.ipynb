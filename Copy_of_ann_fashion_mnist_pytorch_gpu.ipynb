{
  "cells": [
    {
      "cell_type": "code",
      "execution_count": 92,
      "metadata": {
        "id": "EhZMtSdM3W4N"
      },
      "outputs": [],
      "source": [
        "import pandas as pd\n",
        "from sklearn.model_selection import train_test_split\n",
        "import torch\n",
        "from torch.utils.data import Dataset, DataLoader\n",
        "import torch.nn as nn\n",
        "import torch.optim as optim\n",
        "import matplotlib.pyplot as plt"
      ]
    },
    {
      "cell_type": "code",
      "execution_count": 93,
      "metadata": {
        "colab": {
          "base_uri": "https://localhost:8080/"
        },
        "id": "NCrakIjRollf",
        "outputId": "17c5bfa5-c242-4420-d8c5-d9e556c13696"
      },
      "outputs": [
        {
          "output_type": "execute_result",
          "data": {
            "text/plain": [
              "<torch._C.Generator at 0x7b89e15f1a10>"
            ]
          },
          "metadata": {},
          "execution_count": 93
        }
      ],
      "source": [
        "# Set random seeds for reproducibility\n",
        "torch.manual_seed(42)"
      ]
    },
    {
      "cell_type": "code",
      "execution_count": 94,
      "metadata": {
        "colab": {
          "base_uri": "https://localhost:8080/"
        },
        "id": "3DYn2_6J2oYF",
        "outputId": "2622ee5d-92ff-4a57-fa5b-a9ff9ae7fd51"
      },
      "outputs": [
        {
          "output_type": "stream",
          "name": "stdout",
          "text": [
            "Using device: cuda\n"
          ]
        }
      ],
      "source": [
        "# Check for GPU\n",
        "device = torch.device('cuda' if torch.cuda.is_available() else 'cpu')\n",
        "print(f\"Using device: {device}\")"
      ]
    },
    {
      "cell_type": "code",
      "execution_count": 95,
      "metadata": {
        "id": "7lZjGSXR35Qz"
      },
      "outputs": [],
      "source": [
        "df = pd.read_csv('transactions_train.csv')\n",
        "df = df.head()"
      ]
    },
    {
      "cell_type": "code",
      "execution_count": 111,
      "metadata": {
        "colab": {
          "base_uri": "https://localhost:8080/"
        },
        "id": "u70Dnz9f36Yo",
        "outputId": "1642a86c-af80-4731-e227-7ebf8baf512f"
      },
      "outputs": [
        {
          "output_type": "execute_result",
          "data": {
            "text/plain": [
              "(5, 12)"
            ]
          },
          "metadata": {},
          "execution_count": 111
        }
      ],
      "source": [
        "df.shape"
      ]
    },
    {
      "cell_type": "code",
      "execution_count": 97,
      "metadata": {
        "id": "doUr9cde-7Ji"
      },
      "outputs": [],
      "source": [
        "df_fraud = df[df['is_fraud'] ==1]\n",
        "df_valid = df[df['is_fraud'] ==0]"
      ]
    },
    {
      "cell_type": "code",
      "execution_count": 98,
      "metadata": {
        "id": "jFkhK1dvyzW8"
      },
      "outputs": [],
      "source": [
        "# # Create a 4x4 grid of images\n",
        "# fig, axes = plt.subplots(4, 4, figsize=(10, 10))\n",
        "# fig.suptitle(\"First 16 Images\", fontsize=16)\n",
        "\n",
        "# # Plot the first 16 images from the dataset\n",
        "# for i, ax in enumerate(axes.flat):\n",
        "#     img = df.iloc[i, 1:].values.reshape(28, 28)  # Reshape to 28x28\n",
        "#     ax.imshow(img)  # Display in grayscale\n",
        "#     ax.axis('off')  # Remove axis for a cleaner look\n",
        "#     ax.set_title(f\"Label: {df.iloc[i, 0]}\")  # Show the label\n",
        "\n",
        "# plt.tight_layout(rect=[0, 0, 1, 0.96])  # Adjust layout to fit the title\n",
        "# plt.show()\n"
      ]
    },
    {
      "cell_type": "code",
      "execution_count": 99,
      "metadata": {
        "id": "CPoB2jkn3-8V"
      },
      "outputs": [],
      "source": [
        "X = df.drop(columns = ['is_fraud'])\n",
        "y = df['is_fraud']"
      ]
    },
    {
      "cell_type": "code",
      "execution_count": 100,
      "metadata": {
        "id": "CtmEmavE4K7V"
      },
      "outputs": [],
      "source": [
        "X_train, X_test, y_train, y_test = train_test_split(X, y, test_size=0.2, random_state=42)"
      ]
    },
    {
      "cell_type": "code",
      "execution_count": 101,
      "metadata": {
        "colab": {
          "base_uri": "https://localhost:8080/"
        },
        "id": "sdN7MFTMHALT",
        "outputId": "2afadf3b-0dfc-45d9-874a-ffaf676761b0"
      },
      "outputs": [
        {
          "output_type": "stream",
          "name": "stdout",
          "text": [
            "transaction_amount                    float64\n",
            "transaction_date                       object\n",
            "transaction_channel                    object\n",
            "transaction_payment_mode_anonymous      int64\n",
            "payment_gateway_bank_anonymous          int64\n",
            "payer_browser_anonymous                 int64\n",
            "payer_email_anonymous                  object\n",
            "payee_ip_anonymous                     object\n",
            "payer_mobile_anonymous                 object\n",
            "transaction_id_anonymous               object\n",
            "payee_id_anonymous                     object\n",
            "dtype: object\n"
          ]
        }
      ],
      "source": [
        "print(X_train.dtypes)"
      ]
    },
    {
      "cell_type": "code",
      "execution_count": 102,
      "metadata": {
        "id": "6zRx5nPbkoM-"
      },
      "outputs": [],
      "source": [
        "#import onehotencoder\n",
        "from sklearn.preprocessing import OneHotEncoder"
      ]
    },
    {
      "cell_type": "code",
      "execution_count": 103,
      "metadata": {
        "id": "0oISAHnU5GnT"
      },
      "outputs": [],
      "source": [
        "class CustomDataset(Dataset):\n",
        "    def __init__(self, csv_path):\n",
        "        df = pd.read_csv(csv_path)\n",
        "\n",
        "        # Handle missing values\n",
        "        df['transaction_amount'].fillna(df['transaction_amount'].median(), inplace=True)\n",
        "        df['payer_mobile_anonymous'].fillna(\"unknown\", inplace=True)\n",
        "\n",
        "        # Define target and features\n",
        "        self.labels = torch.tensor(df['is_fraud'].values, dtype=torch.long)\n",
        "\n",
        "        # Features to use\n",
        "        numerical_cols = ['transaction_amount', 'transaction_payment_mode_anonymous',\n",
        "                          'payment_gateway_bank_anonymous', 'payer_browser_anonymous']\n",
        "        categorical_cols = ['transaction_channel']\n",
        "\n",
        "        # One-hot encode categorical columns\n",
        "        encoder = OneHotEncoder(sparse_output=False, handle_unknown='ignore')\n",
        "        encoded_data = encoder.fit_transform(df[categorical_cols])\n",
        "\n",
        "        encoded_df = pd.DataFrame(encoded_data, columns=encoder.get_feature_names_out(categorical_cols))\n",
        "\n",
        "        # Combine numerical and encoded features\n",
        "        features = pd.concat([df[numerical_cols], encoded_df], axis=1)\n",
        "        self.features = torch.tensor(features.values, dtype=torch.float32)\n",
        "\n",
        "        # Save the input dimension for model initialization\n",
        "        self.input_dim = self.features.shape[1]\n",
        "\n",
        "    def __len__(self):\n",
        "        return len(self.features)\n",
        "\n",
        "    def __getitem__(self, index):\n",
        "        return self.features[index], self.labels[index]\n"
      ]
    },
    {
      "cell_type": "code",
      "execution_count": 104,
      "metadata": {
        "colab": {
          "base_uri": "https://localhost:8080/"
        },
        "id": "Thpv_XzP5z_b",
        "outputId": "2b349442-9dce-4fd8-99b0-2302ff120def"
      },
      "outputs": [
        {
          "output_type": "stream",
          "name": "stderr",
          "text": [
            "<ipython-input-103-3ae4cefb0fd4>:6: FutureWarning: A value is trying to be set on a copy of a DataFrame or Series through chained assignment using an inplace method.\n",
            "The behavior will change in pandas 3.0. This inplace method will never work because the intermediate object on which we are setting values always behaves as a copy.\n",
            "\n",
            "For example, when doing 'df[col].method(value, inplace=True)', try using 'df.method({col: value}, inplace=True)' or df[col] = df[col].method(value) instead, to perform the operation inplace on the original object.\n",
            "\n",
            "\n",
            "  df['transaction_amount'].fillna(df['transaction_amount'].median(), inplace=True)\n",
            "<ipython-input-103-3ae4cefb0fd4>:7: FutureWarning: A value is trying to be set on a copy of a DataFrame or Series through chained assignment using an inplace method.\n",
            "The behavior will change in pandas 3.0. This inplace method will never work because the intermediate object on which we are setting values always behaves as a copy.\n",
            "\n",
            "For example, when doing 'df[col].method(value, inplace=True)', try using 'df.method({col: value}, inplace=True)' or df[col] = df[col].method(value) instead, to perform the operation inplace on the original object.\n",
            "\n",
            "\n",
            "  df['payer_mobile_anonymous'].fillna(\"unknown\", inplace=True)\n"
          ]
        }
      ],
      "source": [
        "train_dataset = CustomDataset(\"/content/transactions_train.csv\")"
      ]
    },
    {
      "cell_type": "code",
      "execution_count": 105,
      "metadata": {
        "colab": {
          "base_uri": "https://localhost:8080/"
        },
        "id": "kqAkmOzV58TD",
        "outputId": "8415122e-10c7-4b6d-dc24-1a00d4b3cb64"
      },
      "outputs": [
        {
          "output_type": "stream",
          "name": "stderr",
          "text": [
            "<ipython-input-103-3ae4cefb0fd4>:6: FutureWarning: A value is trying to be set on a copy of a DataFrame or Series through chained assignment using an inplace method.\n",
            "The behavior will change in pandas 3.0. This inplace method will never work because the intermediate object on which we are setting values always behaves as a copy.\n",
            "\n",
            "For example, when doing 'df[col].method(value, inplace=True)', try using 'df.method({col: value}, inplace=True)' or df[col] = df[col].method(value) instead, to perform the operation inplace on the original object.\n",
            "\n",
            "\n",
            "  df['transaction_amount'].fillna(df['transaction_amount'].median(), inplace=True)\n",
            "<ipython-input-103-3ae4cefb0fd4>:7: FutureWarning: A value is trying to be set on a copy of a DataFrame or Series through chained assignment using an inplace method.\n",
            "The behavior will change in pandas 3.0. This inplace method will never work because the intermediate object on which we are setting values always behaves as a copy.\n",
            "\n",
            "For example, when doing 'df[col].method(value, inplace=True)', try using 'df.method({col: value}, inplace=True)' or df[col] = df[col].method(value) instead, to perform the operation inplace on the original object.\n",
            "\n",
            "\n",
            "  df['payer_mobile_anonymous'].fillna(\"unknown\", inplace=True)\n"
          ]
        }
      ],
      "source": [
        "test_dataset = CustomDataset(\"/content/transactions_train.csv\")"
      ]
    },
    {
      "cell_type": "code",
      "execution_count": 105,
      "metadata": {
        "id": "UW-HhV4x5_PD"
      },
      "outputs": [],
      "source": []
    },
    {
      "cell_type": "code",
      "execution_count": 106,
      "metadata": {
        "id": "UjdgV0QmVqzA"
      },
      "outputs": [],
      "source": [
        "class MyNN(nn.Module):\n",
        "    def __init__(self, input_dim, output_dim, no_of_HiddenLayer, no_of_neurons, no_of_Dropout):\n",
        "        super().__init__()\n",
        "        layers = []\n",
        "\n",
        "        # First hidden layer\n",
        "        layers.append(nn.Linear(input_dim, no_of_neurons))\n",
        "        layers.append(nn.Dropout(no_of_Dropout))\n",
        "        layers.append(nn.ReLU())\n",
        "        layers.append(nn.BatchNorm1d(no_of_neurons))\n",
        "\n",
        "        # Subsequent hidden layers (if any)\n",
        "        for _ in range(no_of_HiddenLayer - 1):  # Adjust loop to account for first layer\n",
        "            layers.append(nn.Linear(no_of_neurons, no_of_neurons))  # Input dim is now no_of_neurons\n",
        "            layers.append(nn.Dropout(no_of_Dropout))\n",
        "            layers.append(nn.ReLU())\n",
        "            layers.append(nn.BatchNorm1d(no_of_neurons))\n",
        "\n",
        "        # Output layer\n",
        "        layers.append(nn.Linear(no_of_neurons, output_dim))  # Input dim is no_of_neurons\n",
        "\n",
        "        self.model = nn.Sequential(*layers)\n",
        "\n",
        "    def forward(self, x):\n",
        "        return self.model(x)"
      ]
    },
    {
      "cell_type": "code",
      "execution_count": 106,
      "metadata": {
        "id": "uZq-FOc9Zdw4"
      },
      "outputs": [],
      "source": []
    },
    {
      "cell_type": "code",
      "execution_count": 107,
      "metadata": {
        "id": "YzutTIF0QF96"
      },
      "outputs": [],
      "source": [
        "def optimize(trail):\n",
        "\n",
        "  # Search Space\n",
        "   no_of_HiddenLayer = trail.suggest_int('no_of_HiddenLayer', 1 ,5)\n",
        "   no_of_neurons = trail.suggest_int('no_of_neurons',8,128,step=8)\n",
        "   no_of_epochs = trail.suggest_int('no_of_epochs',10,100)\n",
        "   no_of_Dropout = trail.suggest_float('no_of_Dropout',0.1,0.5,step = 0.1)\n",
        "   no_of_batch_size = trail.suggest_int('no_of_batch_size',16,256,step=16)\n",
        "   learning_rate = trail.suggest_float('learning_rate',1e-5,1e-1,log=True)\n",
        "   optimizerFn = trail.suggest_categorical('optimizerFn',['SGD','Adam','RMSprop'])\n",
        "   weight_decay = trail.suggest_float('weight_decay',1e-5,1e-1,log=True)\n",
        "\n",
        "   #data loader\n",
        "\n",
        "   train_loader = DataLoader(train_dataset, batch_size=no_of_batch_size, shuffle=True, pin_memory=True)\n",
        "   test_loader = DataLoader(test_dataset, batch_size=no_of_batch_size, shuffle=False, pin_memory=True)\n",
        "   #model init\n",
        "   model = MyNN(train_dataset.input_dim, 2, no_of_HiddenLayer, no_of_neurons, no_of_Dropout) # Changed output_dim to 2, using train_dataset.input_dim\n",
        "   model = model.to(device)\n",
        "\n",
        "  #parameter init\n",
        "   learning_rate = 0.1\n",
        "   epochs = 100\n",
        "\n",
        "   #training Loop\n",
        "\n",
        "\n",
        "   # loss function\n",
        "   criterion = nn.CrossEntropyLoss()\n",
        "  # optimizer\n",
        "   if optimizerFn == 'Adam':\n",
        "      optimizer = optim.Adam(model.parameters(), lr=learning_rate,weight_decay=weight_decay)\n",
        "   elif optimizerFn == 'SGD':\n",
        "      optimizer = optim.SGD(model.parameters(), lr=learning_rate, weight_decay=weight_decay)\n",
        "   elif optimizerFn == 'RMSprop':\n",
        "      optimizer = optim.RMSprop(model.parameters(), lr=learning_rate, weight_decay=weight_decay)\n",
        "   for epoch in range(epochs):\n",
        "\n",
        "    total_epoch_loss = 0\n",
        "\n",
        "    for batch_features, batch_labels in train_loader:\n",
        "\n",
        "    # move data to gpu\n",
        "      batch_features, batch_labels = batch_features.to(device), batch_labels.to(device)\n",
        "\n",
        "    # forward pass\n",
        "      outputs = model(batch_features)\n",
        "\n",
        "    # calculate loss\n",
        "      loss = criterion(outputs, batch_labels)\n",
        "\n",
        "    # back pass\n",
        "      optimizer.zero_grad()\n",
        "      loss.backward()\n",
        "\n",
        "    # update grads\n",
        "      optimizer.step()\n",
        "\n",
        "    # evalution\n",
        "    model.eval()\n",
        "    # evaluation code\n",
        "    total = 0\n",
        "    correct = 0\n",
        "\n",
        "    with torch.no_grad():\n",
        "\n",
        "      for batch_features, batch_labels in test_loader:\n",
        "\n",
        "        # move data to gpu\n",
        "        batch_features, batch_labels = batch_features.to(device), batch_labels.to(device)\n",
        "\n",
        "        outputs = model(batch_features)\n",
        "\n",
        "        _, predicted = torch.max(outputs, 1)\n",
        "\n",
        "        total = total + batch_labels.shape[0]\n",
        "\n",
        "        correct = correct + (predicted == batch_labels).sum().item()\n",
        "\n",
        "      accuracy = (correct/total)\n",
        "\n",
        "\n",
        "    return accuracy"
      ]
    },
    {
      "cell_type": "code",
      "execution_count": 108,
      "metadata": {
        "colab": {
          "base_uri": "https://localhost:8080/"
        },
        "id": "6HPaDRfjsmxq",
        "outputId": "71b58cca-3b93-457a-d24c-21916365f5aa"
      },
      "outputs": [
        {
          "output_type": "stream",
          "name": "stdout",
          "text": [
            "Requirement already satisfied: optuna in /usr/local/lib/python3.11/dist-packages (4.2.1)\n",
            "Requirement already satisfied: alembic>=1.5.0 in /usr/local/lib/python3.11/dist-packages (from optuna) (1.15.1)\n",
            "Requirement already satisfied: colorlog in /usr/local/lib/python3.11/dist-packages (from optuna) (6.9.0)\n",
            "Requirement already satisfied: numpy in /usr/local/lib/python3.11/dist-packages (from optuna) (2.0.2)\n",
            "Requirement already satisfied: packaging>=20.0 in /usr/local/lib/python3.11/dist-packages (from optuna) (24.2)\n",
            "Requirement already satisfied: sqlalchemy>=1.4.2 in /usr/local/lib/python3.11/dist-packages (from optuna) (2.0.39)\n",
            "Requirement already satisfied: tqdm in /usr/local/lib/python3.11/dist-packages (from optuna) (4.67.1)\n",
            "Requirement already satisfied: PyYAML in /usr/local/lib/python3.11/dist-packages (from optuna) (6.0.2)\n",
            "Requirement already satisfied: Mako in /usr/lib/python3/dist-packages (from alembic>=1.5.0->optuna) (1.1.3)\n",
            "Requirement already satisfied: typing-extensions>=4.12 in /usr/local/lib/python3.11/dist-packages (from alembic>=1.5.0->optuna) (4.12.2)\n",
            "Requirement already satisfied: greenlet!=0.4.17 in /usr/local/lib/python3.11/dist-packages (from sqlalchemy>=1.4.2->optuna) (3.1.1)\n"
          ]
        }
      ],
      "source": [
        "!pip install optuna"
      ]
    },
    {
      "cell_type": "code",
      "execution_count": 109,
      "metadata": {
        "colab": {
          "base_uri": "https://localhost:8080/"
        },
        "id": "Xgn1tw9I6fPT",
        "outputId": "a731b597-546f-480b-cc1c-bcc3db18f689"
      },
      "outputs": [
        {
          "output_type": "stream",
          "name": "stderr",
          "text": [
            "[I 2025-03-21 11:31:19,881] A new study created in memory with name: no-name-af5e4e21-2e00-4823-ab56-e4375ed31f51\n",
            "[I 2025-03-21 11:31:27,105] Trial 0 finished with value: 0.9999363889756312 and parameters: {'no_of_HiddenLayer': 5, 'no_of_neurons': 112, 'no_of_epochs': 65, 'no_of_Dropout': 0.5, 'no_of_batch_size': 160, 'learning_rate': 0.060643739156257814, 'optimizerFn': 'SGD', 'weight_decay': 0.00013728686848995877}. Best is trial 0 with value: 0.9999363889756312.\n",
            "[I 2025-03-21 11:31:52,256] Trial 1 finished with value: 0.9999363889756312 and parameters: {'no_of_HiddenLayer': 1, 'no_of_neurons': 64, 'no_of_epochs': 46, 'no_of_Dropout': 0.4, 'no_of_batch_size': 16, 'learning_rate': 0.00012058749368839079, 'optimizerFn': 'SGD', 'weight_decay': 0.007581079964288224}. Best is trial 0 with value: 0.9999363889756312.\n",
            "[I 2025-03-21 11:31:56,452] Trial 2 finished with value: 0.9999190405144397 and parameters: {'no_of_HiddenLayer': 1, 'no_of_neurons': 48, 'no_of_epochs': 69, 'no_of_Dropout': 0.2, 'no_of_batch_size': 176, 'learning_rate': 0.003100941432855514, 'optimizerFn': 'RMSprop', 'weight_decay': 0.009197603711680881}. Best is trial 0 with value: 0.9999363889756312.\n",
            "[I 2025-03-21 11:32:01,247] Trial 3 finished with value: 0.9999363889756312 and parameters: {'no_of_HiddenLayer': 2, 'no_of_neurons': 72, 'no_of_epochs': 79, 'no_of_Dropout': 0.4, 'no_of_batch_size': 256, 'learning_rate': 0.07630841675948229, 'optimizerFn': 'RMSprop', 'weight_decay': 2.5765934579969588e-05}. Best is trial 0 with value: 0.9999363889756312.\n",
            "[I 2025-03-21 11:32:12,534] Trial 4 finished with value: 0.9999363889756312 and parameters: {'no_of_HiddenLayer': 3, 'no_of_neurons': 72, 'no_of_epochs': 69, 'no_of_Dropout': 0.2, 'no_of_batch_size': 64, 'learning_rate': 0.00026126071193065254, 'optimizerFn': 'SGD', 'weight_decay': 7.730750589728492e-05}. Best is trial 0 with value: 0.9999363889756312.\n",
            "[I 2025-03-21 11:32:18,248] Trial 5 finished with value: 0.9999363889756312 and parameters: {'no_of_HiddenLayer': 5, 'no_of_neurons': 88, 'no_of_epochs': 69, 'no_of_Dropout': 0.30000000000000004, 'no_of_batch_size': 208, 'learning_rate': 0.012028169637052033, 'optimizerFn': 'Adam', 'weight_decay': 0.00015364167450467874}. Best is trial 0 with value: 0.9999363889756312.\n",
            "[I 2025-03-21 11:32:25,386] Trial 6 finished with value: 0.9999363889756312 and parameters: {'no_of_HiddenLayer': 5, 'no_of_neurons': 104, 'no_of_epochs': 93, 'no_of_Dropout': 0.30000000000000004, 'no_of_batch_size': 160, 'learning_rate': 0.015525758955266108, 'optimizerFn': 'SGD', 'weight_decay': 0.010205924410373013}. Best is trial 0 with value: 0.9999363889756312.\n",
            "[I 2025-03-21 11:32:30,717] Trial 7 finished with value: 0.9999363889756312 and parameters: {'no_of_HiddenLayer': 5, 'no_of_neurons': 32, 'no_of_epochs': 79, 'no_of_Dropout': 0.1, 'no_of_batch_size': 256, 'learning_rate': 0.0039124296989717445, 'optimizerFn': 'Adam', 'weight_decay': 6.956711404560647e-05}. Best is trial 0 with value: 0.9999363889756312.\n",
            "[I 2025-03-21 11:32:49,083] Trial 8 finished with value: 0.9999363889756312 and parameters: {'no_of_HiddenLayer': 2, 'no_of_neurons': 56, 'no_of_epochs': 72, 'no_of_Dropout': 0.30000000000000004, 'no_of_batch_size': 32, 'learning_rate': 0.017107019388195543, 'optimizerFn': 'RMSprop', 'weight_decay': 0.002362767549596621}. Best is trial 0 with value: 0.9999363889756312.\n",
            "[I 2025-03-21 11:32:53,081] Trial 9 finished with value: 0.9999363889756312 and parameters: {'no_of_HiddenLayer': 1, 'no_of_neurons': 16, 'no_of_epochs': 51, 'no_of_Dropout': 0.5, 'no_of_batch_size': 192, 'learning_rate': 1.0250560015618468e-05, 'optimizerFn': 'RMSprop', 'weight_decay': 1.0508393321071688e-05}. Best is trial 0 with value: 0.9999363889756312.\n",
            "[I 2025-03-21 11:33:01,438] Trial 10 finished with value: 0.9999363889756312 and parameters: {'no_of_HiddenLayer': 4, 'no_of_neurons': 128, 'no_of_epochs': 12, 'no_of_Dropout': 0.5, 'no_of_batch_size': 112, 'learning_rate': 0.09927838714058998, 'optimizerFn': 'SGD', 'weight_decay': 0.0775966075864997}. Best is trial 0 with value: 0.9999363889756312.\n",
            "[I 2025-03-21 11:33:08,443] Trial 11 finished with value: 0.9999363889756312 and parameters: {'no_of_HiddenLayer': 3, 'no_of_neurons': 128, 'no_of_epochs': 39, 'no_of_Dropout': 0.4, 'no_of_batch_size': 112, 'learning_rate': 0.0001643295461595086, 'optimizerFn': 'SGD', 'weight_decay': 0.0006625173159840186}. Best is trial 0 with value: 0.9999363889756312.\n",
            "[I 2025-03-21 11:33:52,205] Trial 12 finished with value: 0.9999363889756312 and parameters: {'no_of_HiddenLayer': 4, 'no_of_neurons': 104, 'no_of_epochs': 37, 'no_of_Dropout': 0.4, 'no_of_batch_size': 16, 'learning_rate': 4.3906939141898935e-05, 'optimizerFn': 'SGD', 'weight_decay': 0.0007983251744538227}. Best is trial 0 with value: 0.9999363889756312.\n",
            "[I 2025-03-21 11:34:00,663] Trial 13 finished with value: 0.9999363889756312 and parameters: {'no_of_HiddenLayer': 2, 'no_of_neurons': 96, 'no_of_epochs': 42, 'no_of_Dropout': 0.5, 'no_of_batch_size': 80, 'learning_rate': 0.0006660627219665932, 'optimizerFn': 'SGD', 'weight_decay': 0.08214676951577518}. Best is trial 0 with value: 0.9999363889756312.\n",
            "[I 2025-03-21 11:34:07,084] Trial 14 finished with value: 0.9999363889756312 and parameters: {'no_of_HiddenLayer': 4, 'no_of_neurons': 48, 'no_of_epochs': 23, 'no_of_Dropout': 0.4, 'no_of_batch_size': 144, 'learning_rate': 5.1444111227045976e-05, 'optimizerFn': 'SGD', 'weight_decay': 0.0038619473935259684}. Best is trial 0 with value: 0.9999363889756312.\n",
            "[I 2025-03-21 11:34:15,093] Trial 15 finished with value: 0.9994968946254468 and parameters: {'no_of_HiddenLayer': 1, 'no_of_neurons': 80, 'no_of_epochs': 55, 'no_of_Dropout': 0.5, 'no_of_batch_size': 64, 'learning_rate': 0.0010984274668325875, 'optimizerFn': 'SGD', 'weight_decay': 0.00029452561761185474}. Best is trial 0 with value: 0.9999363889756312.\n",
            "[I 2025-03-21 11:34:19,691] Trial 16 finished with value: 0.9999363889756312 and parameters: {'no_of_HiddenLayer': 3, 'no_of_neurons': 112, 'no_of_epochs': 95, 'no_of_Dropout': 0.4, 'no_of_batch_size': 224, 'learning_rate': 8.58460773615499e-05, 'optimizerFn': 'Adam', 'weight_decay': 0.019637680430009942}. Best is trial 0 with value: 0.9999363889756312.\n",
            "[I 2025-03-21 11:34:27,841] Trial 17 finished with value: 0.9999363889756312 and parameters: {'no_of_HiddenLayer': 4, 'no_of_neurons': 8, 'no_of_epochs': 25, 'no_of_Dropout': 0.5, 'no_of_batch_size': 112, 'learning_rate': 1.403430950071039e-05, 'optimizerFn': 'SGD', 'weight_decay': 0.0018329481795077136}. Best is trial 0 with value: 0.9999363889756312.\n",
            "[I 2025-03-21 11:34:33,412] Trial 18 finished with value: 0.9999363889756312 and parameters: {'no_of_HiddenLayer': 2, 'no_of_neurons': 56, 'no_of_epochs': 59, 'no_of_Dropout': 0.4, 'no_of_batch_size': 128, 'learning_rate': 0.000620794721251444, 'optimizerFn': 'SGD', 'weight_decay': 0.00034953925822354254}. Best is trial 0 with value: 0.9999363889756312.\n",
            "[I 2025-03-21 11:34:40,965] Trial 19 finished with value: 0.9999363889756312 and parameters: {'no_of_HiddenLayer': 1, 'no_of_neurons': 32, 'no_of_epochs': 47, 'no_of_Dropout': 0.2, 'no_of_batch_size': 80, 'learning_rate': 0.0022897137047925395, 'optimizerFn': 'Adam', 'weight_decay': 0.021153316790727437}. Best is trial 0 with value: 0.9999363889756312.\n",
            "[I 2025-03-21 11:35:01,098] Trial 20 finished with value: 0.9999132576940425 and parameters: {'no_of_HiddenLayer': 3, 'no_of_neurons': 120, 'no_of_epochs': 60, 'no_of_Dropout': 0.5, 'no_of_batch_size': 32, 'learning_rate': 0.04161998124012937, 'optimizerFn': 'SGD', 'weight_decay': 0.0042466824786895965}. Best is trial 0 with value: 0.9999363889756312.\n",
            "[I 2025-03-21 11:35:05,277] Trial 21 finished with value: 0.9999363889756312 and parameters: {'no_of_HiddenLayer': 2, 'no_of_neurons': 72, 'no_of_epochs': 83, 'no_of_Dropout': 0.4, 'no_of_batch_size': 256, 'learning_rate': 0.09948867797335385, 'optimizerFn': 'RMSprop', 'weight_decay': 3.628964141586471e-05}. Best is trial 0 with value: 0.9999363889756312.\n",
            "[I 2025-03-21 11:35:09,389] Trial 22 finished with value: 0.9999363889756312 and parameters: {'no_of_HiddenLayer': 2, 'no_of_neurons': 88, 'no_of_epochs': 87, 'no_of_Dropout': 0.4, 'no_of_batch_size': 224, 'learning_rate': 0.03716236700736075, 'optimizerFn': 'RMSprop', 'weight_decay': 1.1916862753315938e-05}. Best is trial 0 with value: 0.9999363889756312.\n",
            "[I 2025-03-21 11:35:14,168] Trial 23 finished with value: 0.9999363889756312 and parameters: {'no_of_HiddenLayer': 1, 'no_of_neurons': 64, 'no_of_epochs': 80, 'no_of_Dropout': 0.30000000000000004, 'no_of_batch_size': 176, 'learning_rate': 0.04082418468665603, 'optimizerFn': 'RMSprop', 'weight_decay': 2.4448257344244303e-05}. Best is trial 0 with value: 0.9999363889756312.\n",
            "[I 2025-03-21 11:35:18,344] Trial 24 finished with value: 0.9998322982084823 and parameters: {'no_of_HiddenLayer': 2, 'no_of_neurons': 32, 'no_of_epochs': 62, 'no_of_Dropout': 0.4, 'no_of_batch_size': 224, 'learning_rate': 0.009047679017898443, 'optimizerFn': 'RMSprop', 'weight_decay': 0.00011774379069295683}. Best is trial 0 with value: 0.9999363889756312.\n",
            "[I 2025-03-21 11:35:23,197] Trial 25 finished with value: 0.9999363889756312 and parameters: {'no_of_HiddenLayer': 1, 'no_of_neurons': 80, 'no_of_epochs': 100, 'no_of_Dropout': 0.5, 'no_of_batch_size': 144, 'learning_rate': 0.007027511457487249, 'optimizerFn': 'RMSprop', 'weight_decay': 3.047637110772513e-05}. Best is trial 0 with value: 0.9999363889756312.\n",
            "[I 2025-03-21 11:35:28,081] Trial 26 finished with value: 0.9999363889756312 and parameters: {'no_of_HiddenLayer': 2, 'no_of_neurons': 64, 'no_of_epochs': 31, 'no_of_Dropout': 0.4, 'no_of_batch_size': 240, 'learning_rate': 0.00025297137899520897, 'optimizerFn': 'SGD', 'weight_decay': 0.00018811097430393697}. Best is trial 0 with value: 0.9999363889756312.\n",
            "[I 2025-03-21 11:35:32,956] Trial 27 finished with value: 0.9999363889756312 and parameters: {'no_of_HiddenLayer': 3, 'no_of_neurons': 96, 'no_of_epochs': 46, 'no_of_Dropout': 0.5, 'no_of_batch_size': 192, 'learning_rate': 0.027251429734672202, 'optimizerFn': 'SGD', 'weight_decay': 5.693784115796023e-05}. Best is trial 0 with value: 0.9999363889756312.\n",
            "[I 2025-03-21 11:35:39,647] Trial 28 finished with value: 0.9999363889756312 and parameters: {'no_of_HiddenLayer': 1, 'no_of_neurons': 40, 'no_of_epochs': 76, 'no_of_Dropout': 0.30000000000000004, 'no_of_batch_size': 96, 'learning_rate': 0.0014140703535857084, 'optimizerFn': 'Adam', 'weight_decay': 0.0004588674719126737}. Best is trial 0 with value: 0.9999363889756312.\n",
            "[I 2025-03-21 11:35:43,812] Trial 29 finished with value: 0.9999190405144397 and parameters: {'no_of_HiddenLayer': 1, 'no_of_neurons': 48, 'no_of_epochs': 64, 'no_of_Dropout': 0.1, 'no_of_batch_size': 176, 'learning_rate': 0.0626822596318211, 'optimizerFn': 'RMSprop', 'weight_decay': 0.0013765216621084875}. Best is trial 0 with value: 0.9999363889756312.\n",
            "[I 2025-03-21 11:36:02,892] Trial 30 finished with value: 0.9956397534205382 and parameters: {'no_of_HiddenLayer': 5, 'no_of_neurons': 112, 'no_of_epochs': 53, 'no_of_Dropout': 0.2, 'no_of_batch_size': 48, 'learning_rate': 0.004358049988603535, 'optimizerFn': 'RMSprop', 'weight_decay': 1.757036954428891e-05}. Best is trial 0 with value: 0.9999363889756312.\n",
            "[I 2025-03-21 11:36:39,763] Trial 31 finished with value: 0.9999363889756312 and parameters: {'no_of_HiddenLayer': 3, 'no_of_neurons': 80, 'no_of_epochs': 72, 'no_of_Dropout': 0.2, 'no_of_batch_size': 16, 'learning_rate': 0.0003286234419995573, 'optimizerFn': 'SGD', 'weight_decay': 6.065169861825818e-05}. Best is trial 0 with value: 0.9999363889756312.\n",
            "[I 2025-03-21 11:36:53,622] Trial 32 finished with value: 0.9999363889756312 and parameters: {'no_of_HiddenLayer': 3, 'no_of_neurons': 72, 'no_of_epochs': 65, 'no_of_Dropout': 0.2, 'no_of_batch_size': 48, 'learning_rate': 0.00012184926478382485, 'optimizerFn': 'SGD', 'weight_decay': 0.00019483435100920023}. Best is trial 0 with value: 0.9999363889756312.\n",
            "[I 2025-03-21 11:37:06,103] Trial 33 finished with value: 0.9999132576940425 and parameters: {'no_of_HiddenLayer': 4, 'no_of_neurons': 56, 'no_of_epochs': 68, 'no_of_Dropout': 0.30000000000000004, 'no_of_batch_size': 64, 'learning_rate': 2.351788474276864e-05, 'optimizerFn': 'SGD', 'weight_decay': 0.0001184563792696028}. Best is trial 0 with value: 0.9999363889756312.\n",
            "[I 2025-03-21 11:37:22,571] Trial 34 finished with value: 0.9999363889756312 and parameters: {'no_of_HiddenLayer': 2, 'no_of_neurons': 88, 'no_of_epochs': 87, 'no_of_Dropout': 0.2, 'no_of_batch_size': 32, 'learning_rate': 0.0002989232445117174, 'optimizerFn': 'SGD', 'weight_decay': 7.98962219112495e-05}. Best is trial 0 with value: 0.9999363889756312.\n",
            "[I 2025-03-21 11:37:30,219] Trial 35 finished with value: 0.9999363889756312 and parameters: {'no_of_HiddenLayer': 5, 'no_of_neurons': 72, 'no_of_epochs': 76, 'no_of_Dropout': 0.1, 'no_of_batch_size': 160, 'learning_rate': 0.019681485363212223, 'optimizerFn': 'Adam', 'weight_decay': 4.103174399655636e-05}. Best is trial 0 with value: 0.9999363889756312.\n",
            "[I 2025-03-21 11:37:40,809] Trial 36 finished with value: 0.9999363889756312 and parameters: {'no_of_HiddenLayer': 4, 'no_of_neurons': 64, 'no_of_epochs': 70, 'no_of_Dropout': 0.30000000000000004, 'no_of_batch_size': 80, 'learning_rate': 6.153586719539762e-05, 'optimizerFn': 'SGD', 'weight_decay': 0.007613491077025938}. Best is trial 0 with value: 0.9999363889756312.\n",
            "[I 2025-03-21 11:37:45,177] Trial 37 finished with value: 0.9998901264124539 and parameters: {'no_of_HiddenLayer': 2, 'no_of_neurons': 96, 'no_of_epochs': 57, 'no_of_Dropout': 0.30000000000000004, 'no_of_batch_size': 192, 'learning_rate': 0.00044765207570134996, 'optimizerFn': 'SGD', 'weight_decay': 1.724039570957458e-05}. Best is trial 0 with value: 0.9999363889756312.\n",
            "[I 2025-03-21 11:38:24,482] Trial 38 finished with value: 0.9999363889756312 and parameters: {'no_of_HiddenLayer': 3, 'no_of_neurons': 40, 'no_of_epochs': 84, 'no_of_Dropout': 0.1, 'no_of_batch_size': 16, 'learning_rate': 0.00015052679614487922, 'optimizerFn': 'RMSprop', 'weight_decay': 0.024966436696882515}. Best is trial 0 with value: 0.9999363889756312.\n",
            "[I 2025-03-21 11:38:42,741] Trial 39 finished with value: 0.9999363889756312 and parameters: {'no_of_HiddenLayer': 5, 'no_of_neurons': 88, 'no_of_epochs': 49, 'no_of_Dropout': 0.4, 'no_of_batch_size': 48, 'learning_rate': 3.1713831067279914e-05, 'optimizerFn': 'SGD', 'weight_decay': 0.03598281098218354}. Best is trial 0 with value: 0.9999363889756312.\n",
            "[I 2025-03-21 11:38:47,036] Trial 40 finished with value: 0.9999363889756312 and parameters: {'no_of_HiddenLayer': 2, 'no_of_neurons': 104, 'no_of_epochs': 74, 'no_of_Dropout': 0.5, 'no_of_batch_size': 208, 'learning_rate': 0.01254516169528148, 'optimizerFn': 'Adam', 'weight_decay': 0.00010926737221356212}. Best is trial 0 with value: 0.9999363889756312.\n",
            "[I 2025-03-21 11:38:53,185] Trial 41 finished with value: 0.9999363889756312 and parameters: {'no_of_HiddenLayer': 5, 'no_of_neurons': 80, 'no_of_epochs': 64, 'no_of_Dropout': 0.30000000000000004, 'no_of_batch_size': 240, 'learning_rate': 0.06500874427556234, 'optimizerFn': 'Adam', 'weight_decay': 0.0005980968358249728}. Best is trial 0 with value: 0.9999363889756312.\n",
            "[I 2025-03-21 11:38:58,918] Trial 42 finished with value: 0.9999363889756312 and parameters: {'no_of_HiddenLayer': 5, 'no_of_neurons': 120, 'no_of_epochs': 69, 'no_of_Dropout': 0.2, 'no_of_batch_size': 208, 'learning_rate': 0.021114660047532575, 'optimizerFn': 'Adam', 'weight_decay': 0.00020709596058371557}. Best is trial 0 with value: 0.9999363889756312.\n",
            "[I 2025-03-21 11:39:06,401] Trial 43 finished with value: 0.9999363889756312 and parameters: {'no_of_HiddenLayer': 5, 'no_of_neurons': 56, 'no_of_epochs': 80, 'no_of_Dropout': 0.30000000000000004, 'no_of_batch_size': 160, 'learning_rate': 0.06841430962426845, 'optimizerFn': 'Adam', 'weight_decay': 0.0010440673633531534}. Best is trial 0 with value: 0.9999363889756312.\n",
            "[I 2025-03-21 11:39:11,089] Trial 44 finished with value: 0.9999363889756312 and parameters: {'no_of_HiddenLayer': 4, 'no_of_neurons': 72, 'no_of_epochs': 41, 'no_of_Dropout': 0.4, 'no_of_batch_size': 256, 'learning_rate': 0.002208434643000068, 'optimizerFn': 'SGD', 'weight_decay': 4.6793439897836186e-05}. Best is trial 0 with value: 0.9999363889756312.\n",
            "[I 2025-03-21 11:39:18,995] Trial 45 finished with value: 0.9999363889756312 and parameters: {'no_of_HiddenLayer': 4, 'no_of_neurons': 104, 'no_of_epochs': 55, 'no_of_Dropout': 0.5, 'no_of_batch_size': 128, 'learning_rate': 0.005950594419228478, 'optimizerFn': 'Adam', 'weight_decay': 8.473866253583403e-05}. Best is trial 0 with value: 0.9999363889756312.\n",
            "[I 2025-03-21 11:39:23,988] Trial 46 finished with value: 0.9999363889756312 and parameters: {'no_of_HiddenLayer': 4, 'no_of_neurons': 88, 'no_of_epochs': 91, 'no_of_Dropout': 0.30000000000000004, 'no_of_batch_size': 208, 'learning_rate': 0.012007860112645083, 'optimizerFn': 'SGD', 'weight_decay': 0.00031709246039997676}. Best is trial 0 with value: 0.9999363889756312.\n",
            "[I 2025-03-21 11:39:29,916] Trial 47 finished with value: 0.9999363889756312 and parameters: {'no_of_HiddenLayer': 5, 'no_of_neurons': 64, 'no_of_epochs': 10, 'no_of_Dropout': 0.4, 'no_of_batch_size': 240, 'learning_rate': 8.379866633968181e-05, 'optimizerFn': 'SGD', 'weight_decay': 0.003361424237867032}. Best is trial 0 with value: 0.9999363889756312.\n",
            "[I 2025-03-21 11:39:37,075] Trial 48 finished with value: 0.9999363889756312 and parameters: {'no_of_HiddenLayer': 3, 'no_of_neurons': 112, 'no_of_epochs': 68, 'no_of_Dropout': 0.2, 'no_of_batch_size': 112, 'learning_rate': 0.0007921973141228039, 'optimizerFn': 'RMSprop', 'weight_decay': 2.3447628116984234e-05}. Best is trial 0 with value: 0.9999363889756312.\n",
            "[I 2025-03-21 11:39:45,824] Trial 49 finished with value: 0.9999363889756312 and parameters: {'no_of_HiddenLayer': 1, 'no_of_neurons': 128, 'no_of_epochs': 77, 'no_of_Dropout': 0.4, 'no_of_batch_size': 64, 'learning_rate': 0.00017688947450610076, 'optimizerFn': 'Adam', 'weight_decay': 0.01192841104700154}. Best is trial 0 with value: 0.9999363889756312.\n"
          ]
        }
      ],
      "source": [
        "import optuna\n",
        "# Create a study object and optimize the objective function\n",
        "study = optuna.create_study(direction='maximize', sampler=optuna.samplers.TPESampler())  # We aim to maximize accuracy\n",
        "study.optimize(optimize, n_trials=50)\n"
      ]
    },
    {
      "cell_type": "code",
      "execution_count": 110,
      "metadata": {
        "colab": {
          "base_uri": "https://localhost:8080/"
        },
        "id": "z3LfMWb698O5",
        "outputId": "cfbbe5f5-2107-4a03-b7a9-dd13022ccb50"
      },
      "outputs": [
        {
          "output_type": "stream",
          "name": "stdout",
          "text": [
            "{'no_of_HiddenLayer': 5, 'no_of_neurons': 112, 'no_of_epochs': 65, 'no_of_Dropout': 0.5, 'no_of_batch_size': 160, 'learning_rate': 0.060643739156257814, 'optimizerFn': 'SGD', 'weight_decay': 0.00013728686848995877}\n",
            "0.9999363889756312\n"
          ]
        }
      ],
      "source": [
        "print(study.best_params)\n",
        "print(study.best_value)"
      ]
    },
    {
      "cell_type": "code",
      "execution_count": 110,
      "metadata": {
        "id": "JpbU_UCp9N1r"
      },
      "outputs": [],
      "source": []
    },
    {
      "cell_type": "code",
      "execution_count": 110,
      "metadata": {
        "id": "0UpCVk9X-JaI"
      },
      "outputs": [],
      "source": [
        "\n"
      ]
    },
    {
      "cell_type": "code",
      "execution_count": 110,
      "metadata": {
        "id": "CA6B2YPYAOtu"
      },
      "outputs": [],
      "source": []
    },
    {
      "cell_type": "code",
      "execution_count": 110,
      "metadata": {
        "id": "Xwirkg4PPNhB"
      },
      "outputs": [],
      "source": []
    },
    {
      "cell_type": "code",
      "execution_count": 110,
      "metadata": {
        "id": "J5edAjvgr8tB"
      },
      "outputs": [],
      "source": []
    },
    {
      "cell_type": "code",
      "execution_count": 110,
      "metadata": {
        "id": "RiQB7vWWHY7k"
      },
      "outputs": [],
      "source": []
    }
  ],
  "metadata": {
    "accelerator": "GPU",
    "colab": {
      "gpuType": "T4",
      "provenance": []
    },
    "kernelspec": {
      "display_name": "Python 3",
      "name": "python3"
    },
    "language_info": {
      "name": "python"
    }
  },
  "nbformat": 4,
  "nbformat_minor": 0
}